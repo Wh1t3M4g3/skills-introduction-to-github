{
 "cells": [
  {
   "cell_type": "markdown",
   "metadata": {
    "tags": [
     "Header"
    ]
   },
   "source": [
    "### Course header >>>\n",
    "  Include a 1280×640 image, course title in sentence case, and a concise description in emphasis.\n",
    "  In your repository settings: enable template repository, add your 1280×640 social image, auto delete head branches.\n",
    "  Add your open source license, GitHub uses MIT license."
   ]
  },
  {
   "cell_type": "code",
   "execution_count": null,
   "metadata": {
    "vscode": {
     "languageId": "css"
    }
   },
   "outputs": [],
   "source": [
    "import matplotlib.pyplot as plt\n",
    "from PIL import Image\n",
    "\n",
    "# Load the image\n",
    "image_path = \"https://www.canva.com/design/DAFzc5lIqBA/ERuBXDS0GjsDLFi15v5n-g/edit?utm_content=DAFzc5lIqBA&utm_campaign=designshare&utm_medium=link2&utm_source=sharebutton\"  # Replace with the actual image path\n",
    "image = Image.open(image_path)\n",
    "\n",
    "# Resize the image to 1280x640 pixels\n",
    "resized_image = image.resize((1280, 640))\n",
    "\n",
    "# Display the image\n",
    "plt.imshow(resized_image)\n",
    "plt.axis('off')  # Disable axis\n",
    "plt.show()"
   ]
  }
 ],
 "metadata": {
  "language_info": {
   "name": "python"
  }
 },
 "nbformat": 4,
 "nbformat_minor": 2
}
